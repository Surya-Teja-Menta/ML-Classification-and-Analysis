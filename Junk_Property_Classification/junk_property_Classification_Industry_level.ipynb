{
 "cells": [
  {
   "cell_type": "code",
   "execution_count": null,
   "metadata": {
    "colab": {
     "base_uri": "https://localhost:8080/"
    },
    "executionInfo": {
     "elapsed": 1251,
     "status": "ok",
     "timestamp": 1605793177512,
     "user": {
      "displayName": "Mansi Gupta",
      "photoUrl": "https://lh3.googleusercontent.com/a-/AOh14Gg-eSqQt6zvClgSY0_QT_GIvO_LGNz3Cau1wv1S7w=s64",
      "userId": "09741357658171476289"
     },
     "user_tz": -330
    },
    "id": "0buwUZkZwbqa",
    "outputId": "77d1f38c-709e-446b-fc44-41e1bba722c3"
   },
   "outputs": [],
   "source": []
  },
  {
   "cell_type": "code",
   "execution_count": 1,
   "metadata": {
    "colab": {
     "base_uri": "https://localhost:8080/",
     "height": 226
    },
    "executionInfo": {
     "elapsed": 1602,
     "status": "ok",
     "timestamp": 1605793178105,
     "user": {
      "displayName": "Mansi Gupta",
      "photoUrl": "https://lh3.googleusercontent.com/a-/AOh14Gg-eSqQt6zvClgSY0_QT_GIvO_LGNz3Cau1wv1S7w=s64",
      "userId": "09741357658171476289"
     },
     "user_tz": -330
    },
    "id": "--TudwOjzdHJ",
    "outputId": "7aa99f1e-ff92-4fc0-815d-a08889f29eea"
   },
   "outputs": [
    {
     "data": {
      "text/html": [
       "<div>\n",
       "<style scoped>\n",
       "    .dataframe tbody tr th:only-of-type {\n",
       "        vertical-align: middle;\n",
       "    }\n",
       "\n",
       "    .dataframe tbody tr th {\n",
       "        vertical-align: top;\n",
       "    }\n",
       "\n",
       "    .dataframe thead th {\n",
       "        text-align: right;\n",
       "    }\n",
       "</style>\n",
       "<table border=\"1\" class=\"dataframe\">\n",
       "  <thead>\n",
       "    <tr style=\"text-align: right;\">\n",
       "      <th></th>\n",
       "      <th>Junk</th>\n",
       "      <th>InteriorsStyle</th>\n",
       "      <th>PriceIndex8</th>\n",
       "      <th>ListDate</th>\n",
       "      <th>Material</th>\n",
       "      <th>PriceIndex9</th>\n",
       "      <th>Agency</th>\n",
       "      <th>AreaIncomeType</th>\n",
       "      <th>EnvRating</th>\n",
       "      <th>PriceIndex7</th>\n",
       "      <th>...</th>\n",
       "      <th>Region</th>\n",
       "      <th>PriceIndex5</th>\n",
       "      <th>SubModel</th>\n",
       "      <th>Facade</th>\n",
       "      <th>State</th>\n",
       "      <th>NormalisedPopulation</th>\n",
       "      <th>BuildYear</th>\n",
       "      <th>RegionType</th>\n",
       "      <th>PropertyAge</th>\n",
       "      <th>PriceIndex2</th>\n",
       "    </tr>\n",
       "  </thead>\n",
       "  <tbody>\n",
       "    <tr>\n",
       "      <th>0</th>\n",
       "      <td>0</td>\n",
       "      <td>6LLJ</td>\n",
       "      <td>14674.0</td>\n",
       "      <td>9/7/2010</td>\n",
       "      <td>UT7W</td>\n",
       "      <td>8270</td>\n",
       "      <td>CAT3</td>\n",
       "      <td>B</td>\n",
       "      <td>missing</td>\n",
       "      <td>13143.0</td>\n",
       "      <td>...</td>\n",
       "      <td>A</td>\n",
       "      <td>9022.0</td>\n",
       "      <td>6E9G</td>\n",
       "      <td>GREEN</td>\n",
       "      <td>MD</td>\n",
       "      <td>42077</td>\n",
       "      <td>2008</td>\n",
       "      <td>A</td>\n",
       "      <td>2</td>\n",
       "      <td>10692.0</td>\n",
       "    </tr>\n",
       "    <tr>\n",
       "      <th>1</th>\n",
       "      <td>1</td>\n",
       "      <td>XZ9F</td>\n",
       "      <td>4172.0</td>\n",
       "      <td>1/7/2009</td>\n",
       "      <td>PRN0</td>\n",
       "      <td>3890</td>\n",
       "      <td>CAT2</td>\n",
       "      <td>B</td>\n",
       "      <td>missing</td>\n",
       "      <td>3461.0</td>\n",
       "      <td>...</td>\n",
       "      <td>A</td>\n",
       "      <td>2742.0</td>\n",
       "      <td>FIVQ</td>\n",
       "      <td>SILVER</td>\n",
       "      <td>OK</td>\n",
       "      <td>77258</td>\n",
       "      <td>2002</td>\n",
       "      <td>A</td>\n",
       "      <td>7</td>\n",
       "      <td>3615.0</td>\n",
       "    </tr>\n",
       "    <tr>\n",
       "      <th>2</th>\n",
       "      <td>0</td>\n",
       "      <td>QWEV</td>\n",
       "      <td>8210.0</td>\n",
       "      <td>6/23/2010</td>\n",
       "      <td>A9RA</td>\n",
       "      <td>5900</td>\n",
       "      <td>CAT1</td>\n",
       "      <td>B</td>\n",
       "      <td>missing</td>\n",
       "      <td>6922.0</td>\n",
       "      <td>...</td>\n",
       "      <td>A</td>\n",
       "      <td>3768.0</td>\n",
       "      <td>4K0H</td>\n",
       "      <td>SILVER</td>\n",
       "      <td>SC</td>\n",
       "      <td>94514</td>\n",
       "      <td>2004</td>\n",
       "      <td>A</td>\n",
       "      <td>6</td>\n",
       "      <td>5805.0</td>\n",
       "    </tr>\n",
       "    <tr>\n",
       "      <th>3</th>\n",
       "      <td>0</td>\n",
       "      <td>MK2K</td>\n",
       "      <td>7309.0</td>\n",
       "      <td>3/19/2009</td>\n",
       "      <td>RRJQ</td>\n",
       "      <td>7460</td>\n",
       "      <td>OTHER</td>\n",
       "      <td>A</td>\n",
       "      <td>missing</td>\n",
       "      <td>6300.0</td>\n",
       "      <td>...</td>\n",
       "      <td>A</td>\n",
       "      <td>5370.0</td>\n",
       "      <td>ZLXY</td>\n",
       "      <td>WHITE</td>\n",
       "      <td>NC</td>\n",
       "      <td>82302</td>\n",
       "      <td>2002</td>\n",
       "      <td>C</td>\n",
       "      <td>7</td>\n",
       "      <td>6444.0</td>\n",
       "    </tr>\n",
       "    <tr>\n",
       "      <th>4</th>\n",
       "      <td>0</td>\n",
       "      <td>GK4G</td>\n",
       "      <td>9182.0</td>\n",
       "      <td>3/3/2010</td>\n",
       "      <td>HE5A</td>\n",
       "      <td>6400</td>\n",
       "      <td>OTHER</td>\n",
       "      <td>B</td>\n",
       "      <td>missing</td>\n",
       "      <td>8330.0</td>\n",
       "      <td>...</td>\n",
       "      <td>A</td>\n",
       "      <td>4803.0</td>\n",
       "      <td>FIVQ</td>\n",
       "      <td>SILVER</td>\n",
       "      <td>SC</td>\n",
       "      <td>49176</td>\n",
       "      <td>2007</td>\n",
       "      <td>B</td>\n",
       "      <td>3</td>\n",
       "      <td>6286.0</td>\n",
       "    </tr>\n",
       "  </tbody>\n",
       "</table>\n",
       "<p>5 rows × 31 columns</p>\n",
       "</div>"
      ],
      "text/plain": [
       "   Junk InteriorsStyle PriceIndex8   ListDate Material  PriceIndex9 Agency  \\\n",
       "0     0           6LLJ     14674.0   9/7/2010     UT7W         8270   CAT3   \n",
       "1     1           XZ9F      4172.0   1/7/2009     PRN0         3890   CAT2   \n",
       "2     0           QWEV      8210.0  6/23/2010     A9RA         5900   CAT1   \n",
       "3     0           MK2K      7309.0  3/19/2009     RRJQ         7460  OTHER   \n",
       "4     0           GK4G      9182.0   3/3/2010     HE5A         6400  OTHER   \n",
       "\n",
       "  AreaIncomeType EnvRating PriceIndex7  ...  Region PriceIndex5 SubModel  \\\n",
       "0              B   missing     13143.0  ...       A      9022.0     6E9G   \n",
       "1              B   missing      3461.0  ...       A      2742.0     FIVQ   \n",
       "2              B   missing      6922.0  ...       A      3768.0     4K0H   \n",
       "3              A   missing      6300.0  ...       A      5370.0     ZLXY   \n",
       "4              B   missing      8330.0  ...       A      4803.0     FIVQ   \n",
       "\n",
       "   Facade State NormalisedPopulation  BuildYear  RegionType PropertyAge  \\\n",
       "0   GREEN    MD                42077       2008           A           2   \n",
       "1  SILVER    OK                77258       2002           A           7   \n",
       "2  SILVER    SC                94514       2004           A           6   \n",
       "3   WHITE    NC                82302       2002           C           7   \n",
       "4  SILVER    SC                49176       2007           B           3   \n",
       "\n",
       "  PriceIndex2  \n",
       "0     10692.0  \n",
       "1      3615.0  \n",
       "2      5805.0  \n",
       "3      6444.0  \n",
       "4      6286.0  \n",
       "\n",
       "[5 rows x 31 columns]"
      ]
     },
     "execution_count": 1,
     "metadata": {},
     "output_type": "execute_result"
    }
   ],
   "source": [
    "import pandas as pd\n",
    "import numpy as np\n",
    "import warnings \n",
    "warnings.filterwarnings(\"ignore\")\n",
    "import pandas_profiling as pp\n",
    "from sklearn.preprocessing import LabelBinarizer\n",
    "from sklearn.ensemble import RandomForestClassifier\n",
    "from sklearn.model_selection import train_test_split, GridSearchCV, StratifiedKFold\n",
    "from sklearn.metrics import roc_curve, precision_recall_curve, auc, make_scorer, recall_score, accuracy_score, precision_score, confusion_matrix, fbeta_score, roc_auc_score\n",
    "from sklearn.model_selection import train_test_split\n",
    "from sklearn.metrics import classification_report as cr\n",
    "\n",
    "import matplotlib.pyplot as plt\n",
    "plt.style.use(\"ggplot\")\n",
    "df = pd.read_csv('Property_train.csv', parse_dates=True)\n",
    "df.head()"
   ]
  },
  {
   "cell_type": "code",
   "execution_count": 2,
   "metadata": {
    "colab": {
     "base_uri": "https://localhost:8080/"
    },
    "executionInfo": {
     "elapsed": 1376,
     "status": "ok",
     "timestamp": 1605793178107,
     "user": {
      "displayName": "Mansi Gupta",
      "photoUrl": "https://lh3.googleusercontent.com/a-/AOh14Gg-eSqQt6zvClgSY0_QT_GIvO_LGNz3Cau1wv1S7w=s64",
      "userId": "09741357658171476289"
     },
     "user_tz": -330
    },
    "id": "g0e6tw4uzdKc",
    "outputId": "475d451d-c1f6-4d5e-d1df-85ef90207a78"
   },
   "outputs": [
    {
     "name": "stdout",
     "output_type": "stream",
     "text": [
      "(62035, 31)\n"
     ]
    }
   ],
   "source": [
    "print(df.shape)"
   ]
  },
  {
   "cell_type": "code",
   "execution_count": 3,
   "metadata": {
    "colab": {
     "base_uri": "https://localhost:8080/"
    },
    "executionInfo": {
     "elapsed": 723,
     "status": "ok",
     "timestamp": 1605793178110,
     "user": {
      "displayName": "Mansi Gupta",
      "photoUrl": "https://lh3.googleusercontent.com/a-/AOh14Gg-eSqQt6zvClgSY0_QT_GIvO_LGNz3Cau1wv1S7w=s64",
      "userId": "09741357658171476289"
     },
     "user_tz": -330
    },
    "id": "Ao0qhZOd0blO",
    "outputId": "bbb99cc4-2479-435b-d787-bdcc2962c92e"
   },
   "outputs": [
    {
     "data": {
      "text/plain": [
       "Index(['Junk', 'InteriorsStyle', 'PriceIndex8', 'ListDate', 'Material',\n",
       "       'PriceIndex9', 'Agency', 'AreaIncomeType', 'EnvRating', 'PriceIndex7',\n",
       "       'ExpeditedListing', 'PriceIndex4', 'PriceIndex1', 'PriceIndex6',\n",
       "       'PRIMEUNIT', 'Channel', 'Zip', 'InsurancePremiumIndex', 'PlotType',\n",
       "       'Architecture', 'PriceIndex3', 'Region', 'PriceIndex5', 'SubModel',\n",
       "       'Facade', 'State', 'NormalisedPopulation', 'BuildYear', 'RegionType',\n",
       "       'PropertyAge', 'PriceIndex2'],\n",
       "      dtype='object')"
      ]
     },
     "execution_count": 3,
     "metadata": {},
     "output_type": "execute_result"
    }
   ],
   "source": [
    "df.columns"
   ]
  },
  {
   "cell_type": "code",
   "execution_count": 4,
   "metadata": {
    "colab": {
     "base_uri": "https://localhost:8080/",
     "height": 300
    },
    "executionInfo": {
     "elapsed": 1172,
     "status": "ok",
     "timestamp": 1605793178844,
     "user": {
      "displayName": "Mansi Gupta",
      "photoUrl": "https://lh3.googleusercontent.com/a-/AOh14Gg-eSqQt6zvClgSY0_QT_GIvO_LGNz3Cau1wv1S7w=s64",
      "userId": "09741357658171476289"
     },
     "user_tz": -330
    },
    "id": "hkhrRWmL07sd",
    "outputId": "0a57e2c7-2636-4ef0-be3d-3454c0b7daa2"
   },
   "outputs": [
    {
     "data": {
      "text/html": [
       "<div>\n",
       "<style scoped>\n",
       "    .dataframe tbody tr th:only-of-type {\n",
       "        vertical-align: middle;\n",
       "    }\n",
       "\n",
       "    .dataframe tbody tr th {\n",
       "        vertical-align: top;\n",
       "    }\n",
       "\n",
       "    .dataframe thead th {\n",
       "        text-align: right;\n",
       "    }\n",
       "</style>\n",
       "<table border=\"1\" class=\"dataframe\">\n",
       "  <thead>\n",
       "    <tr style=\"text-align: right;\">\n",
       "      <th></th>\n",
       "      <th>Junk</th>\n",
       "      <th>PriceIndex9</th>\n",
       "      <th>ExpeditedListing</th>\n",
       "      <th>Zip</th>\n",
       "      <th>InsurancePremiumIndex</th>\n",
       "      <th>NormalisedPopulation</th>\n",
       "      <th>BuildYear</th>\n",
       "      <th>PropertyAge</th>\n",
       "    </tr>\n",
       "  </thead>\n",
       "  <tbody>\n",
       "    <tr>\n",
       "      <th>count</th>\n",
       "      <td>62035.000000</td>\n",
       "      <td>62035.000000</td>\n",
       "      <td>62035.000000</td>\n",
       "      <td>62035.000000</td>\n",
       "      <td>62035.000000</td>\n",
       "      <td>62035.000000</td>\n",
       "      <td>62035.000000</td>\n",
       "      <td>62035.00000</td>\n",
       "    </tr>\n",
       "    <tr>\n",
       "      <th>mean</th>\n",
       "      <td>0.122544</td>\n",
       "      <td>6731.444765</td>\n",
       "      <td>0.024680</td>\n",
       "      <td>58038.149109</td>\n",
       "      <td>1277.286854</td>\n",
       "      <td>71462.694302</td>\n",
       "      <td>2005.347739</td>\n",
       "      <td>4.17171</td>\n",
       "    </tr>\n",
       "    <tr>\n",
       "      <th>std</th>\n",
       "      <td>0.327915</td>\n",
       "      <td>1766.130806</td>\n",
       "      <td>0.155148</td>\n",
       "      <td>26143.635828</td>\n",
       "      <td>600.787708</td>\n",
       "      <td>14583.079578</td>\n",
       "      <td>1.730014</td>\n",
       "      <td>1.70878</td>\n",
       "    </tr>\n",
       "    <tr>\n",
       "      <th>min</th>\n",
       "      <td>0.000000</td>\n",
       "      <td>225.000000</td>\n",
       "      <td>0.000000</td>\n",
       "      <td>2764.000000</td>\n",
       "      <td>462.000000</td>\n",
       "      <td>4825.000000</td>\n",
       "      <td>2001.000000</td>\n",
       "      <td>0.00000</td>\n",
       "    </tr>\n",
       "    <tr>\n",
       "      <th>25%</th>\n",
       "      <td>0.000000</td>\n",
       "      <td>5430.000000</td>\n",
       "      <td>0.000000</td>\n",
       "      <td>32124.000000</td>\n",
       "      <td>837.000000</td>\n",
       "      <td>61803.500000</td>\n",
       "      <td>2004.000000</td>\n",
       "      <td>3.00000</td>\n",
       "    </tr>\n",
       "    <tr>\n",
       "      <th>50%</th>\n",
       "      <td>0.000000</td>\n",
       "      <td>6705.000000</td>\n",
       "      <td>0.000000</td>\n",
       "      <td>73108.000000</td>\n",
       "      <td>1155.000000</td>\n",
       "      <td>73361.000000</td>\n",
       "      <td>2005.000000</td>\n",
       "      <td>4.00000</td>\n",
       "    </tr>\n",
       "    <tr>\n",
       "      <th>75%</th>\n",
       "      <td>0.000000</td>\n",
       "      <td>7900.000000</td>\n",
       "      <td>0.000000</td>\n",
       "      <td>80022.000000</td>\n",
       "      <td>1623.000000</td>\n",
       "      <td>82370.500000</td>\n",
       "      <td>2007.000000</td>\n",
       "      <td>5.00000</td>\n",
       "    </tr>\n",
       "    <tr>\n",
       "      <th>max</th>\n",
       "      <td>1.000000</td>\n",
       "      <td>38785.000000</td>\n",
       "      <td>1.000000</td>\n",
       "      <td>99224.000000</td>\n",
       "      <td>7498.000000</td>\n",
       "      <td>115717.000000</td>\n",
       "      <td>2010.000000</td>\n",
       "      <td>9.00000</td>\n",
       "    </tr>\n",
       "  </tbody>\n",
       "</table>\n",
       "</div>"
      ],
      "text/plain": [
       "               Junk   PriceIndex9  ExpeditedListing           Zip  \\\n",
       "count  62035.000000  62035.000000      62035.000000  62035.000000   \n",
       "mean       0.122544   6731.444765          0.024680  58038.149109   \n",
       "std        0.327915   1766.130806          0.155148  26143.635828   \n",
       "min        0.000000    225.000000          0.000000   2764.000000   \n",
       "25%        0.000000   5430.000000          0.000000  32124.000000   \n",
       "50%        0.000000   6705.000000          0.000000  73108.000000   \n",
       "75%        0.000000   7900.000000          0.000000  80022.000000   \n",
       "max        1.000000  38785.000000          1.000000  99224.000000   \n",
       "\n",
       "       InsurancePremiumIndex  NormalisedPopulation     BuildYear  PropertyAge  \n",
       "count           62035.000000          62035.000000  62035.000000  62035.00000  \n",
       "mean             1277.286854          71462.694302   2005.347739      4.17171  \n",
       "std               600.787708          14583.079578      1.730014      1.70878  \n",
       "min               462.000000           4825.000000   2001.000000      0.00000  \n",
       "25%               837.000000          61803.500000   2004.000000      3.00000  \n",
       "50%              1155.000000          73361.000000   2005.000000      4.00000  \n",
       "75%              1623.000000          82370.500000   2007.000000      5.00000  \n",
       "max              7498.000000         115717.000000   2010.000000      9.00000  "
      ]
     },
     "execution_count": 4,
     "metadata": {},
     "output_type": "execute_result"
    }
   ],
   "source": [
    "df.describe()"
   ]
  },
  {
   "cell_type": "code",
   "execution_count": 5,
   "metadata": {
    "colab": {
     "base_uri": "https://localhost:8080/"
    },
    "executionInfo": {
     "elapsed": 1344,
     "status": "ok",
     "timestamp": 1605793179291,
     "user": {
      "displayName": "Mansi Gupta",
      "photoUrl": "https://lh3.googleusercontent.com/a-/AOh14Gg-eSqQt6zvClgSY0_QT_GIvO_LGNz3Cau1wv1S7w=s64",
      "userId": "09741357658171476289"
     },
     "user_tz": -330
    },
    "id": "vRAu5srO1Zv7",
    "outputId": "4e14f16e-2176-4caa-9431-884474d41f5b"
   },
   "outputs": [
    {
     "data": {
      "text/plain": [
       "[('Junk', dtype('int64'), 2),\n",
       " ('InteriorsStyle', dtype('O'), 1036),\n",
       " ('PriceIndex8', dtype('O'), 12686),\n",
       " ('ListDate', dtype('O'), 516),\n",
       " ('Material', dtype('O'), 134),\n",
       " ('PriceIndex9', dtype('int64'), 2019),\n",
       " ('Agency', dtype('O'), 5),\n",
       " ('AreaIncomeType', dtype('O'), 4),\n",
       " ('EnvRating', dtype('O'), 3),\n",
       " ('PriceIndex7', dtype('O'), 12078),\n",
       " ('ExpeditedListing', dtype('int64'), 2),\n",
       " ('PriceIndex4', dtype('O'), 13006),\n",
       " ('PriceIndex1', dtype('O'), 10053),\n",
       " ('PriceIndex6', dtype('O'), 10863),\n",
       " ('PRIMEUNIT', dtype('O'), 3),\n",
       " ('Channel', dtype('O'), 3),\n",
       " ('Zip', dtype('int64'), 152),\n",
       " ('InsurancePremiumIndex', dtype('int64'), 277),\n",
       " ('PlotType', dtype('O'), 13),\n",
       " ('Architecture', dtype('O'), 33),\n",
       " ('PriceIndex3', dtype('O'), 12309),\n",
       " ('Region', dtype('O'), 3),\n",
       " ('PriceIndex5', dtype('O'), 10011),\n",
       " ('SubModel', dtype('O'), 831),\n",
       " ('Facade', dtype('O'), 17),\n",
       " ('State', dtype('O'), 37),\n",
       " ('NormalisedPopulation', dtype('int64'), 36675),\n",
       " ('BuildYear', dtype('int64'), 10),\n",
       " ('RegionType', dtype('O'), 5),\n",
       " ('PropertyAge', dtype('int64'), 10),\n",
       " ('PriceIndex2', dtype('O'), 11010)]"
      ]
     },
     "execution_count": 5,
     "metadata": {},
     "output_type": "execute_result"
    }
   ],
   "source": [
    "list(zip(df.columns,df.dtypes,df.nunique()))"
   ]
  },
  {
   "cell_type": "code",
   "execution_count": 6,
   "metadata": {
    "colab": {
     "base_uri": "https://localhost:8080/"
    },
    "executionInfo": {
     "elapsed": 856,
     "status": "ok",
     "timestamp": 1605793184835,
     "user": {
      "displayName": "Mansi Gupta",
      "photoUrl": "https://lh3.googleusercontent.com/a-/AOh14Gg-eSqQt6zvClgSY0_QT_GIvO_LGNz3Cau1wv1S7w=s64",
      "userId": "09741357658171476289"
     },
     "user_tz": -330
    },
    "id": "JDTu0U8RAcbC",
    "outputId": "13ebe2b3-90f2-429a-c238-9388fd450684"
   },
   "outputs": [
    {
     "data": {
      "text/plain": [
       "3101.75"
      ]
     },
     "execution_count": 6,
     "metadata": {},
     "output_type": "execute_result"
    }
   ],
   "source": [
    "cutoff = (5/100)* df.shape[0]\n",
    "cutoff"
   ]
  },
  {
   "cell_type": "code",
   "execution_count": 7,
   "metadata": {
    "colab": {
     "base_uri": "https://localhost:8080/"
    },
    "executionInfo": {
     "elapsed": 834,
     "status": "ok",
     "timestamp": 1605793193909,
     "user": {
      "displayName": "Mansi Gupta",
      "photoUrl": "https://lh3.googleusercontent.com/a-/AOh14Gg-eSqQt6zvClgSY0_QT_GIvO_LGNz3Cau1wv1S7w=s64",
      "userId": "09741357658171476289"
     },
     "user_tz": -330
    },
    "id": "UJlX9NLaAyMJ",
    "outputId": "16de346f-211c-4ec9-a2f8-1b14815780b4"
   },
   "outputs": [
    {
     "data": {
      "text/plain": [
       "[('Junk', dtype('int64'), 2),\n",
       " ('InteriorsStyle', dtype('O'), 1036),\n",
       " ('PriceIndex8', dtype('float64'), 12685),\n",
       " ('ListDate', dtype('O'), 516),\n",
       " ('Material', dtype('O'), 134),\n",
       " ('PriceIndex9', dtype('int64'), 2019),\n",
       " ('Agency', dtype('O'), 5),\n",
       " ('AreaIncomeType', dtype('O'), 4),\n",
       " ('EnvRating', dtype('O'), 3),\n",
       " ('PriceIndex7', dtype('float64'), 12077),\n",
       " ('ExpeditedListing', dtype('int64'), 2),\n",
       " ('PriceIndex4', dtype('float64'), 13005),\n",
       " ('PriceIndex1', dtype('float64'), 10052),\n",
       " ('PriceIndex6', dtype('float64'), 10862),\n",
       " ('PRIMEUNIT', dtype('O'), 3),\n",
       " ('Channel', dtype('O'), 3),\n",
       " ('Zip', dtype('int64'), 152),\n",
       " ('InsurancePremiumIndex', dtype('int64'), 277),\n",
       " ('PlotType', dtype('O'), 13),\n",
       " ('Architecture', dtype('O'), 33),\n",
       " ('PriceIndex3', dtype('float64'), 12308),\n",
       " ('Region', dtype('O'), 3),\n",
       " ('PriceIndex5', dtype('float64'), 10010),\n",
       " ('SubModel', dtype('O'), 831),\n",
       " ('Facade', dtype('O'), 17),\n",
       " ('State', dtype('O'), 37),\n",
       " ('NormalisedPopulation', dtype('int64'), 36675),\n",
       " ('BuildYear', dtype('int64'), 10),\n",
       " ('RegionType', dtype('O'), 5),\n",
       " ('PropertyAge', dtype('int64'), 10),\n",
       " ('PriceIndex2', dtype('float64'), 11009)]"
      ]
     },
     "execution_count": 7,
     "metadata": {},
     "output_type": "execute_result"
    }
   ],
   "source": [
    "numcol = [\"PriceIndex5\",\"PriceIndex7\",\"PriceIndex4\",\"PriceIndex1\",\"PriceIndex6\",\"PriceIndex2\",\"PriceIndex3\",\"PriceIndex8\", \"PriceIndex9\"]\n",
    "for col in numcol:\n",
    "  df[col] = pd.to_numeric(df[col], errors=\"coerce\")\n",
    "list(zip(df.columns,df.dtypes,df.nunique()))"
   ]
  },
  {
   "cell_type": "code",
   "execution_count": 8,
   "metadata": {
    "colab": {
     "base_uri": "https://localhost:8080/",
     "height": 506
    },
    "executionInfo": {
     "elapsed": 1445,
     "status": "ok",
     "timestamp": 1605781243120,
     "user": {
      "displayName": "Mansi Gupta",
      "photoUrl": "https://lh3.googleusercontent.com/a-/AOh14Gg-eSqQt6zvClgSY0_QT_GIvO_LGNz3Cau1wv1S7w=s64",
      "userId": "09741357658171476289"
     },
     "user_tz": -330
    },
    "id": "i7Yzv4StCT2I",
    "outputId": "ddd28fa3-aa79-42f9-b3b0-4792fcd3997b"
   },
   "outputs": [
    {
     "name": "stdout",
     "output_type": "stream",
     "text": [
      "InteriorsStyle\n",
      "ListDate\n",
      "Material\n",
      "Agency\n",
      "AreaIncomeType\n",
      "EnvRating\n",
      "PRIMEUNIT\n",
      "Channel\n",
      "PlotType\n",
      "Architecture\n",
      "Region\n",
      "SubModel\n",
      "Facade\n",
      "State\n",
      "RegionType\n"
     ]
    },
    {
     "data": {
      "text/html": [
       "<div>\n",
       "<style scoped>\n",
       "    .dataframe tbody tr th:only-of-type {\n",
       "        vertical-align: middle;\n",
       "    }\n",
       "\n",
       "    .dataframe tbody tr th {\n",
       "        vertical-align: top;\n",
       "    }\n",
       "\n",
       "    .dataframe thead th {\n",
       "        text-align: right;\n",
       "    }\n",
       "</style>\n",
       "<table border=\"1\" class=\"dataframe\">\n",
       "  <thead>\n",
       "    <tr style=\"text-align: right;\">\n",
       "      <th></th>\n",
       "      <th>Junk</th>\n",
       "      <th>PriceIndex8</th>\n",
       "      <th>PriceIndex9</th>\n",
       "      <th>PriceIndex7</th>\n",
       "      <th>ExpeditedListing</th>\n",
       "      <th>PriceIndex4</th>\n",
       "      <th>PriceIndex1</th>\n",
       "      <th>PriceIndex6</th>\n",
       "      <th>Zip</th>\n",
       "      <th>InsurancePremiumIndex</th>\n",
       "      <th>...</th>\n",
       "      <th>State_TX</th>\n",
       "      <th>State_FL</th>\n",
       "      <th>State_CA</th>\n",
       "      <th>State_NC</th>\n",
       "      <th>State_AZ</th>\n",
       "      <th>State_CO</th>\n",
       "      <th>State_SC</th>\n",
       "      <th>RegionType_A</th>\n",
       "      <th>RegionType_B</th>\n",
       "      <th>RegionType_C</th>\n",
       "    </tr>\n",
       "  </thead>\n",
       "  <tbody>\n",
       "    <tr>\n",
       "      <th>0</th>\n",
       "      <td>0</td>\n",
       "      <td>14674.0</td>\n",
       "      <td>8270</td>\n",
       "      <td>13143.0</td>\n",
       "      <td>0</td>\n",
       "      <td>14224.0</td>\n",
       "      <td>9217.0</td>\n",
       "      <td>10387.0</td>\n",
       "      <td>21075</td>\n",
       "      <td>623</td>\n",
       "      <td>...</td>\n",
       "      <td>0</td>\n",
       "      <td>0</td>\n",
       "      <td>0</td>\n",
       "      <td>0</td>\n",
       "      <td>0</td>\n",
       "      <td>0</td>\n",
       "      <td>0</td>\n",
       "      <td>1</td>\n",
       "      <td>0</td>\n",
       "      <td>0</td>\n",
       "    </tr>\n",
       "    <tr>\n",
       "      <th>1</th>\n",
       "      <td>1</td>\n",
       "      <td>4172.0</td>\n",
       "      <td>3890</td>\n",
       "      <td>3461.0</td>\n",
       "      <td>0</td>\n",
       "      <td>4404.0</td>\n",
       "      <td>2958.0</td>\n",
       "      <td>3400.0</td>\n",
       "      <td>73129</td>\n",
       "      <td>1689</td>\n",
       "      <td>...</td>\n",
       "      <td>0</td>\n",
       "      <td>0</td>\n",
       "      <td>0</td>\n",
       "      <td>0</td>\n",
       "      <td>0</td>\n",
       "      <td>0</td>\n",
       "      <td>0</td>\n",
       "      <td>1</td>\n",
       "      <td>0</td>\n",
       "      <td>0</td>\n",
       "    </tr>\n",
       "    <tr>\n",
       "      <th>2</th>\n",
       "      <td>0</td>\n",
       "      <td>8210.0</td>\n",
       "      <td>5900</td>\n",
       "      <td>6922.0</td>\n",
       "      <td>0</td>\n",
       "      <td>8952.0</td>\n",
       "      <td>4568.0</td>\n",
       "      <td>4862.0</td>\n",
       "      <td>29697</td>\n",
       "      <td>2351</td>\n",
       "      <td>...</td>\n",
       "      <td>0</td>\n",
       "      <td>0</td>\n",
       "      <td>0</td>\n",
       "      <td>0</td>\n",
       "      <td>0</td>\n",
       "      <td>0</td>\n",
       "      <td>1</td>\n",
       "      <td>1</td>\n",
       "      <td>0</td>\n",
       "      <td>0</td>\n",
       "    </tr>\n",
       "    <tr>\n",
       "      <th>3</th>\n",
       "      <td>0</td>\n",
       "      <td>7309.0</td>\n",
       "      <td>7460</td>\n",
       "      <td>6300.0</td>\n",
       "      <td>0</td>\n",
       "      <td>7460.0</td>\n",
       "      <td>5361.0</td>\n",
       "      <td>6305.0</td>\n",
       "      <td>28273</td>\n",
       "      <td>1933</td>\n",
       "      <td>...</td>\n",
       "      <td>0</td>\n",
       "      <td>0</td>\n",
       "      <td>0</td>\n",
       "      <td>1</td>\n",
       "      <td>0</td>\n",
       "      <td>0</td>\n",
       "      <td>0</td>\n",
       "      <td>0</td>\n",
       "      <td>0</td>\n",
       "      <td>1</td>\n",
       "    </tr>\n",
       "    <tr>\n",
       "      <th>4</th>\n",
       "      <td>0</td>\n",
       "      <td>9182.0</td>\n",
       "      <td>6400</td>\n",
       "      <td>8330.0</td>\n",
       "      <td>0</td>\n",
       "      <td>9846.0</td>\n",
       "      <td>5428.0</td>\n",
       "      <td>5718.0</td>\n",
       "      <td>29697</td>\n",
       "      <td>482</td>\n",
       "      <td>...</td>\n",
       "      <td>0</td>\n",
       "      <td>0</td>\n",
       "      <td>0</td>\n",
       "      <td>0</td>\n",
       "      <td>0</td>\n",
       "      <td>0</td>\n",
       "      <td>1</td>\n",
       "      <td>0</td>\n",
       "      <td>1</td>\n",
       "      <td>0</td>\n",
       "    </tr>\n",
       "  </tbody>\n",
       "</table>\n",
       "<p>5 rows × 60 columns</p>\n",
       "</div>"
      ],
      "text/plain": [
       "   Junk  PriceIndex8  PriceIndex9  PriceIndex7  ExpeditedListing  PriceIndex4  \\\n",
       "0     0      14674.0         8270      13143.0                 0      14224.0   \n",
       "1     1       4172.0         3890       3461.0                 0       4404.0   \n",
       "2     0       8210.0         5900       6922.0                 0       8952.0   \n",
       "3     0       7309.0         7460       6300.0                 0       7460.0   \n",
       "4     0       9182.0         6400       8330.0                 0       9846.0   \n",
       "\n",
       "   PriceIndex1  PriceIndex6    Zip  InsurancePremiumIndex  ...  State_TX  \\\n",
       "0       9217.0      10387.0  21075                    623  ...         0   \n",
       "1       2958.0       3400.0  73129                   1689  ...         0   \n",
       "2       4568.0       4862.0  29697                   2351  ...         0   \n",
       "3       5361.0       6305.0  28273                   1933  ...         0   \n",
       "4       5428.0       5718.0  29697                    482  ...         0   \n",
       "\n",
       "   State_FL  State_CA  State_NC  State_AZ  State_CO  State_SC  RegionType_A  \\\n",
       "0         0         0         0         0         0         0             1   \n",
       "1         0         0         0         0         0         0             1   \n",
       "2         0         0         0         0         0         1             1   \n",
       "3         0         0         1         0         0         0             0   \n",
       "4         0         0         0         0         0         1             0   \n",
       "\n",
       "   RegionType_B  RegionType_C  \n",
       "0             0             0  \n",
       "1             0             0  \n",
       "2             0             0  \n",
       "3             0             1  \n",
       "4             1             0  \n",
       "\n",
       "[5 rows x 60 columns]"
      ]
     },
     "execution_count": 8,
     "metadata": {},
     "output_type": "execute_result"
    }
   ],
   "source": [
    "cols = df.select_dtypes([\"object\"])\n",
    "for colname in cols:\n",
    "  cats = df[colname].value_counts()\n",
    "  keepcat = cats.index[cats >= cutoff]\n",
    "  for cat in keepcat:\n",
    "    if cat == \"missing\":\n",
    "      continue\n",
    "    name=colname+'_'+cat\n",
    "    df[name] = (df[colname]==cat).astype(int)\n",
    "  del df[colname]\n",
    "  print(colname)\n",
    "df.head()"
   ]
  },
  {
   "cell_type": "code",
   "execution_count": 9,
   "metadata": {
    "colab": {
     "base_uri": "https://localhost:8080/"
    },
    "executionInfo": {
     "elapsed": 1117,
     "status": "ok",
     "timestamp": 1605781243123,
     "user": {
      "displayName": "Mansi Gupta",
      "photoUrl": "https://lh3.googleusercontent.com/a-/AOh14Gg-eSqQt6zvClgSY0_QT_GIvO_LGNz3Cau1wv1S7w=s64",
      "userId": "09741357658171476289"
     },
     "user_tz": -330
    },
    "id": "Tm8G0nt-TpiJ",
    "outputId": "2a8c5ec8-a16d-4876-c3ff-1c1eda171414"
   },
   "outputs": [
    {
     "name": "stdout",
     "output_type": "stream",
     "text": [
      "(62035, 60)\n",
      "(61763, 60)\n"
     ]
    }
   ],
   "source": [
    "print(df.shape)\n",
    "df.dropna(axis=0, inplace=True)\n",
    "print(df.shape)"
   ]
  },
  {
   "cell_type": "code",
   "execution_count": 10,
   "metadata": {
    "colab": {
     "base_uri": "https://localhost:8080/"
    },
    "executionInfo": {
     "elapsed": 953,
     "status": "ok",
     "timestamp": 1605781245818,
     "user": {
      "displayName": "Mansi Gupta",
      "photoUrl": "https://lh3.googleusercontent.com/a-/AOh14Gg-eSqQt6zvClgSY0_QT_GIvO_LGNz3Cau1wv1S7w=s64",
      "userId": "09741357658171476289"
     },
     "user_tz": -330
    },
    "id": "2Ex8rVfNWUC6",
    "outputId": "bd5b3a38-afca-44f6-daa3-0c0bc3d598bc"
   },
   "outputs": [
    {
     "data": {
      "text/plain": [
       "(61763, 60)"
      ]
     },
     "execution_count": 10,
     "metadata": {},
     "output_type": "execute_result"
    }
   ],
   "source": [
    "df.shape"
   ]
  },
  {
   "cell_type": "code",
   "execution_count": 11,
   "metadata": {
    "executionInfo": {
     "elapsed": 1412,
     "status": "ok",
     "timestamp": 1605781247393,
     "user": {
      "displayName": "Mansi Gupta",
      "photoUrl": "https://lh3.googleusercontent.com/a-/AOh14Gg-eSqQt6zvClgSY0_QT_GIvO_LGNz3Cau1wv1S7w=s64",
      "userId": "09741357658171476289"
     },
     "user_tz": -330
    },
    "id": "E67wAhFZbfUX"
   },
   "outputs": [],
   "source": [
    "def report(results, n_top=3):\n",
    "    for i in range(1, n_top + 1):\n",
    "        candidates = np.flatnonzero(results['rank_test_score'] == i)\n",
    "        for candidate in candidates:\n",
    "            print(\"Model with rank: {0}\".format(i))\n",
    "            print(\"Mean validation score: {0:.3f} (std: {1:.5f})\".format(\n",
    "                  results['mean_test_score'][candidate],\n",
    "                  results['std_test_score'][candidate]))\n",
    "            print(\"Parameters: {0}\".format(results['params'][candidate]))\n",
    "            print(\"\")\n",
    "\n",
    "\n",
    "\n",
    "def grid_search_wrapper(refit_score='recall_score'):\n",
    "    \"\"\"\n",
    "    fits a GridSearchCV classifier using refit_score for optimization\n",
    "    prints classifier performance metrics\n",
    "    \"\"\"\n",
    "    skf = StratifiedKFold(n_splits=10)\n",
    "    grid_search = GridSearchCV(clf, param_grid, scoring=scorers, refit=refit_score,\n",
    "                           cv=skf, return_train_score=True, n_jobs=-1, verbose=30)\n",
    "    grid_search.fit(xtrain.values, ytrain.values)\n",
    "\n",
    "    # make the predictions\n",
    "    ypred = grid_search.predict(xtest.values)\n",
    "\n",
    "    print('Best params for {}'.format(refit_score))\n",
    "    print(grid_search.best_params_)\n",
    "    #report(grid_search.cv_results_, n_top=3)\n",
    "    # confusion matrix on the test data.\n",
    "    print('\\nConfusion matrix of Random Forest optimized for {} on the test data:'.format(refit_score))\n",
    "    print(pd.DataFrame(confusion_matrix(ytest, ypred),\n",
    "                 columns=['pred_neg', 'pred_pos'], index=['neg', 'pos']))\n",
    "    return grid_search"
   ]
  },
  {
   "cell_type": "code",
   "execution_count": 12,
   "metadata": {
    "executionInfo": {
     "elapsed": 1816,
     "status": "ok",
     "timestamp": 1605785245120,
     "user": {
      "displayName": "Mansi Gupta",
      "photoUrl": "https://lh3.googleusercontent.com/a-/AOh14Gg-eSqQt6zvClgSY0_QT_GIvO_LGNz3Cau1wv1S7w=s64",
      "userId": "09741357658171476289"
     },
     "user_tz": -330
    },
    "id": "xQwp9J2IQjNc"
   },
   "outputs": [],
   "source": [
    "xtrain, xtest, ytrain, ytest = train_test_split(df[df.columns[1:]],df.Junk, test_size=0.3, stratify=df.Junk)\n"
   ]
  },
  {
   "cell_type": "code",
   "execution_count": 13,
   "metadata": {
    "colab": {
     "base_uri": "https://localhost:8080/"
    },
    "executionInfo": {
     "elapsed": 6001303,
     "status": "ok",
     "timestamp": 1605777800030,
     "user": {
      "displayName": "Mansi Gupta",
      "photoUrl": "https://lh3.googleusercontent.com/a-/AOh14Gg-eSqQt6zvClgSY0_QT_GIvO_LGNz3Cau1wv1S7w=s64",
      "userId": "09741357658171476289"
     },
     "user_tz": -330
    },
    "id": "_Ci8axLCRxQc",
    "outputId": "68337d12-1fd7-48de-caca-d7df1e51e8b4"
   },
   "outputs": [
    {
     "name": "stdout",
     "output_type": "stream",
     "text": [
      "*********************************************************************************\n",
      "__________________________________ 0.5 ________________________________________\n",
      "Fitting 10 folds for each of 1 candidates, totalling 10 fits\n"
     ]
    },
    {
     "name": "stderr",
     "output_type": "stream",
     "text": [
      "[Parallel(n_jobs=-1)]: Using backend LokyBackend with 4 concurrent workers.\n",
      "[Parallel(n_jobs=-1)]: Done   1 tasks      | elapsed:  1.9min\n",
      "[Parallel(n_jobs=-1)]: Done   2 tasks      | elapsed:  1.9min\n",
      "[Parallel(n_jobs=-1)]: Done   3 tasks      | elapsed:  1.9min\n",
      "[Parallel(n_jobs=-1)]: Done   4 out of  10 | elapsed:  1.9min remaining:  2.9min\n",
      "[Parallel(n_jobs=-1)]: Done   5 out of  10 | elapsed:  3.8min remaining:  3.8min\n",
      "[Parallel(n_jobs=-1)]: Done   6 out of  10 | elapsed:  3.8min remaining:  2.5min\n",
      "[Parallel(n_jobs=-1)]: Done   7 out of  10 | elapsed:  3.8min remaining:  1.6min\n",
      "[Parallel(n_jobs=-1)]: Done   8 out of  10 | elapsed:  3.8min remaining:   57.3s\n",
      "[Parallel(n_jobs=-1)]: Done  10 out of  10 | elapsed:  5.1min remaining:    0.0s\n",
      "[Parallel(n_jobs=-1)]: Done  10 out of  10 | elapsed:  5.1min finished\n"
     ]
    },
    {
     "name": "stdout",
     "output_type": "stream",
     "text": [
      "Best params for fbeta_score\n",
      "{'class_weight': {1: 0.122, 0: 0.877}, 'n_estimators': 500}\n",
      "\n",
      "Confusion matrix of Random Forest optimized for fbeta_score on the test data:\n",
      "     pred_neg  pred_pos\n",
      "neg     16156       101\n",
      "pos      1834       438\n",
      "*********************************************************************************\n",
      "*********************************************************************************\n",
      "__________________________________ 0.7 ________________________________________\n",
      "Fitting 10 folds for each of 1 candidates, totalling 10 fits\n"
     ]
    },
    {
     "name": "stderr",
     "output_type": "stream",
     "text": [
      "[Parallel(n_jobs=-1)]: Using backend LokyBackend with 4 concurrent workers.\n",
      "[Parallel(n_jobs=-1)]: Done   1 tasks      | elapsed:  1.9min\n",
      "[Parallel(n_jobs=-1)]: Done   2 tasks      | elapsed:  1.9min\n",
      "[Parallel(n_jobs=-1)]: Done   3 tasks      | elapsed:  1.9min\n",
      "[Parallel(n_jobs=-1)]: Done   4 out of  10 | elapsed:  1.9min remaining:  2.9min\n",
      "[Parallel(n_jobs=-1)]: Done   5 out of  10 | elapsed:  3.8min remaining:  3.8min\n",
      "[Parallel(n_jobs=-1)]: Done   6 out of  10 | elapsed:  3.8min remaining:  2.5min\n",
      "[Parallel(n_jobs=-1)]: Done   7 out of  10 | elapsed:  3.8min remaining:  1.6min\n",
      "[Parallel(n_jobs=-1)]: Done   8 out of  10 | elapsed:  3.8min remaining:   57.4s\n",
      "[Parallel(n_jobs=-1)]: Done  10 out of  10 | elapsed:  5.1min remaining:    0.0s\n",
      "[Parallel(n_jobs=-1)]: Done  10 out of  10 | elapsed:  5.1min finished\n"
     ]
    },
    {
     "name": "stdout",
     "output_type": "stream",
     "text": [
      "Best params for fbeta_score\n",
      "{'class_weight': {1: 0.122, 0: 0.877}, 'n_estimators': 500}\n",
      "\n",
      "Confusion matrix of Random Forest optimized for fbeta_score on the test data:\n",
      "     pred_neg  pred_pos\n",
      "neg     16162        95\n",
      "pos      1840       432\n",
      "*********************************************************************************\n",
      "*********************************************************************************\n",
      "__________________________________ 2 ________________________________________\n",
      "Fitting 10 folds for each of 1 candidates, totalling 10 fits\n"
     ]
    },
    {
     "name": "stderr",
     "output_type": "stream",
     "text": [
      "[Parallel(n_jobs=-1)]: Using backend LokyBackend with 4 concurrent workers.\n",
      "[Parallel(n_jobs=-1)]: Done   1 tasks      | elapsed:  1.9min\n",
      "[Parallel(n_jobs=-1)]: Done   2 tasks      | elapsed:  1.9min\n",
      "[Parallel(n_jobs=-1)]: Done   3 tasks      | elapsed:  1.9min\n",
      "[Parallel(n_jobs=-1)]: Done   4 out of  10 | elapsed:  1.9min remaining:  2.9min\n",
      "[Parallel(n_jobs=-1)]: Done   5 out of  10 | elapsed:  3.8min remaining:  3.8min\n",
      "[Parallel(n_jobs=-1)]: Done   6 out of  10 | elapsed:  3.8min remaining:  2.5min\n",
      "[Parallel(n_jobs=-1)]: Done   7 out of  10 | elapsed:  3.8min remaining:  1.6min\n",
      "[Parallel(n_jobs=-1)]: Done   8 out of  10 | elapsed:  3.8min remaining:   57.5s\n",
      "[Parallel(n_jobs=-1)]: Done  10 out of  10 | elapsed:  5.1min remaining:    0.0s\n",
      "[Parallel(n_jobs=-1)]: Done  10 out of  10 | elapsed:  5.1min finished\n"
     ]
    },
    {
     "name": "stdout",
     "output_type": "stream",
     "text": [
      "Best params for fbeta_score\n",
      "{'class_weight': {1: 0.122, 0: 0.877}, 'n_estimators': 500}\n",
      "\n",
      "Confusion matrix of Random Forest optimized for fbeta_score on the test data:\n",
      "     pred_neg  pred_pos\n",
      "neg     16160        97\n",
      "pos      1827       445\n",
      "*********************************************************************************\n",
      "*********************************************************************************\n",
      "__________________________________ 1 ________________________________________\n",
      "Fitting 10 folds for each of 1 candidates, totalling 10 fits\n"
     ]
    },
    {
     "name": "stderr",
     "output_type": "stream",
     "text": [
      "[Parallel(n_jobs=-1)]: Using backend LokyBackend with 4 concurrent workers.\n",
      "[Parallel(n_jobs=-1)]: Done   1 tasks      | elapsed:  1.9min\n",
      "[Parallel(n_jobs=-1)]: Done   2 tasks      | elapsed:  1.9min\n",
      "[Parallel(n_jobs=-1)]: Done   3 tasks      | elapsed:  1.9min\n",
      "[Parallel(n_jobs=-1)]: Done   4 out of  10 | elapsed:  1.9min remaining:  2.8min\n",
      "[Parallel(n_jobs=-1)]: Done   5 out of  10 | elapsed:  3.7min remaining:  3.7min\n",
      "[Parallel(n_jobs=-1)]: Done   6 out of  10 | elapsed:  3.8min remaining:  2.5min\n",
      "[Parallel(n_jobs=-1)]: Done   7 out of  10 | elapsed:  3.8min remaining:  1.6min\n",
      "[Parallel(n_jobs=-1)]: Done   8 out of  10 | elapsed:  3.8min remaining:   56.9s\n",
      "[Parallel(n_jobs=-1)]: Done  10 out of  10 | elapsed:  5.1min remaining:    0.0s\n",
      "[Parallel(n_jobs=-1)]: Done  10 out of  10 | elapsed:  5.1min finished\n"
     ]
    },
    {
     "name": "stdout",
     "output_type": "stream",
     "text": [
      "Best params for fbeta_score\n",
      "{'class_weight': {1: 0.122, 0: 0.877}, 'n_estimators': 500}\n",
      "\n",
      "Confusion matrix of Random Forest optimized for fbeta_score on the test data:\n",
      "     pred_neg  pred_pos\n",
      "neg     16162        95\n",
      "pos      1838       434\n",
      "*********************************************************************************\n",
      "*********************************************************************************\n",
      "__________________________________ 1.5 ________________________________________\n",
      "Fitting 10 folds for each of 1 candidates, totalling 10 fits\n"
     ]
    },
    {
     "name": "stderr",
     "output_type": "stream",
     "text": [
      "[Parallel(n_jobs=-1)]: Using backend LokyBackend with 4 concurrent workers.\n",
      "[Parallel(n_jobs=-1)]: Done   1 tasks      | elapsed:  1.9min\n",
      "[Parallel(n_jobs=-1)]: Done   2 tasks      | elapsed:  1.9min\n",
      "[Parallel(n_jobs=-1)]: Done   3 tasks      | elapsed:  1.9min\n",
      "[Parallel(n_jobs=-1)]: Done   4 out of  10 | elapsed:  1.9min remaining:  2.9min\n",
      "[Parallel(n_jobs=-1)]: Done   5 out of  10 | elapsed:  3.8min remaining:  3.8min\n",
      "[Parallel(n_jobs=-1)]: Done   6 out of  10 | elapsed:  3.8min remaining:  2.6min\n",
      "[Parallel(n_jobs=-1)]: Done   7 out of  10 | elapsed:  3.8min remaining:  1.6min\n",
      "[Parallel(n_jobs=-1)]: Done   8 out of  10 | elapsed:  3.9min remaining:   57.7s\n",
      "[Parallel(n_jobs=-1)]: Done  10 out of  10 | elapsed:  5.2min remaining:    0.0s\n",
      "[Parallel(n_jobs=-1)]: Done  10 out of  10 | elapsed:  5.2min finished\n"
     ]
    },
    {
     "name": "stdout",
     "output_type": "stream",
     "text": [
      "Best params for fbeta_score\n",
      "{'class_weight': {1: 0.122, 0: 0.877}, 'n_estimators': 500}\n",
      "\n",
      "Confusion matrix of Random Forest optimized for fbeta_score on the test data:\n",
      "     pred_neg  pred_pos\n",
      "neg     16163        94\n",
      "pos      1818       454\n",
      "*********************************************************************************\n",
      "*********************************************************************************\n",
      "__________________________________ 5 ________________________________________\n",
      "Fitting 10 folds for each of 1 candidates, totalling 10 fits\n"
     ]
    },
    {
     "name": "stderr",
     "output_type": "stream",
     "text": [
      "[Parallel(n_jobs=-1)]: Using backend LokyBackend with 4 concurrent workers.\n",
      "[Parallel(n_jobs=-1)]: Done   1 tasks      | elapsed:  1.8min\n",
      "[Parallel(n_jobs=-1)]: Done   2 tasks      | elapsed:  1.8min\n",
      "[Parallel(n_jobs=-1)]: Done   3 tasks      | elapsed:  1.9min\n",
      "[Parallel(n_jobs=-1)]: Done   4 out of  10 | elapsed:  1.9min remaining:  2.8min\n",
      "[Parallel(n_jobs=-1)]: Done   5 out of  10 | elapsed:  3.7min remaining:  3.7min\n",
      "[Parallel(n_jobs=-1)]: Done   6 out of  10 | elapsed:  3.7min remaining:  2.5min\n",
      "[Parallel(n_jobs=-1)]: Done   7 out of  10 | elapsed:  3.7min remaining:  1.6min\n",
      "[Parallel(n_jobs=-1)]: Done   8 out of  10 | elapsed:  3.7min remaining:   56.0s\n",
      "[Parallel(n_jobs=-1)]: Done  10 out of  10 | elapsed:  5.0min remaining:    0.0s\n",
      "[Parallel(n_jobs=-1)]: Done  10 out of  10 | elapsed:  5.0min finished\n"
     ]
    },
    {
     "name": "stdout",
     "output_type": "stream",
     "text": [
      "Best params for fbeta_score\n",
      "{'class_weight': {1: 0.122, 0: 0.877}, 'n_estimators': 500}\n",
      "\n",
      "Confusion matrix of Random Forest optimized for fbeta_score on the test data:\n",
      "     pred_neg  pred_pos\n",
      "neg     16164        93\n",
      "pos      1827       445\n",
      "*********************************************************************************\n",
      "*********************************************************************************\n",
      "__________________________________ 70 ________________________________________\n",
      "Fitting 10 folds for each of 1 candidates, totalling 10 fits\n"
     ]
    },
    {
     "name": "stderr",
     "output_type": "stream",
     "text": [
      "[Parallel(n_jobs=-1)]: Using backend LokyBackend with 4 concurrent workers.\n",
      "[Parallel(n_jobs=-1)]: Done   1 tasks      | elapsed:  2.2min\n",
      "[Parallel(n_jobs=-1)]: Done   2 tasks      | elapsed:  2.2min\n",
      "[Parallel(n_jobs=-1)]: Done   3 tasks      | elapsed:  2.2min\n",
      "[Parallel(n_jobs=-1)]: Done   4 out of  10 | elapsed:  2.2min remaining:  3.3min\n",
      "[Parallel(n_jobs=-1)]: Done   5 out of  10 | elapsed:  4.4min remaining:  4.4min\n",
      "[Parallel(n_jobs=-1)]: Done   6 out of  10 | elapsed:  4.4min remaining:  2.9min\n",
      "[Parallel(n_jobs=-1)]: Done   7 out of  10 | elapsed:  4.4min remaining:  1.9min\n",
      "[Parallel(n_jobs=-1)]: Done   8 out of  10 | elapsed:  4.4min remaining:  1.1min\n",
      "[Parallel(n_jobs=-1)]: Done  10 out of  10 | elapsed:  5.8min remaining:    0.0s\n",
      "[Parallel(n_jobs=-1)]: Done  10 out of  10 | elapsed:  5.8min finished\n"
     ]
    },
    {
     "name": "stdout",
     "output_type": "stream",
     "text": [
      "Best params for fbeta_score\n",
      "{'class_weight': {1: 0.122, 0: 0.877}, 'n_estimators': 500}\n",
      "\n",
      "Confusion matrix of Random Forest optimized for fbeta_score on the test data:\n",
      "     pred_neg  pred_pos\n",
      "neg     16166        91\n",
      "pos      1827       445\n",
      "*********************************************************************************\n",
      "*********************************************************************************\n",
      "__________________________________ 40 ________________________________________\n",
      "Fitting 10 folds for each of 1 candidates, totalling 10 fits\n"
     ]
    },
    {
     "name": "stderr",
     "output_type": "stream",
     "text": [
      "[Parallel(n_jobs=-1)]: Using backend LokyBackend with 4 concurrent workers.\n",
      "[Parallel(n_jobs=-1)]: Done   1 tasks      | elapsed:  2.2min\n",
      "[Parallel(n_jobs=-1)]: Done   2 tasks      | elapsed:  2.2min\n",
      "[Parallel(n_jobs=-1)]: Done   3 tasks      | elapsed:  2.2min\n",
      "[Parallel(n_jobs=-1)]: Done   4 out of  10 | elapsed:  2.2min remaining:  3.3min\n",
      "[Parallel(n_jobs=-1)]: Done   5 out of  10 | elapsed:  4.2min remaining:  4.2min\n",
      "[Parallel(n_jobs=-1)]: Done   6 out of  10 | elapsed:  4.3min remaining:  2.8min\n",
      "[Parallel(n_jobs=-1)]: Done   7 out of  10 | elapsed:  4.3min remaining:  1.8min\n",
      "[Parallel(n_jobs=-1)]: Done   8 out of  10 | elapsed:  4.3min remaining:  1.1min\n",
      "[Parallel(n_jobs=-1)]: Done  10 out of  10 | elapsed:  5.6min remaining:    0.0s\n",
      "[Parallel(n_jobs=-1)]: Done  10 out of  10 | elapsed:  5.6min finished\n"
     ]
    },
    {
     "name": "stdout",
     "output_type": "stream",
     "text": [
      "Best params for fbeta_score\n",
      "{'class_weight': {1: 0.122, 0: 0.877}, 'n_estimators': 500}\n",
      "\n",
      "Confusion matrix of Random Forest optimized for fbeta_score on the test data:\n",
      "     pred_neg  pred_pos\n",
      "neg     16163        94\n",
      "pos      1836       436\n",
      "*********************************************************************************\n",
      "*********************************************************************************\n",
      "__________________________________ 10 ________________________________________\n",
      "Fitting 10 folds for each of 1 candidates, totalling 10 fits\n"
     ]
    },
    {
     "name": "stderr",
     "output_type": "stream",
     "text": [
      "[Parallel(n_jobs=-1)]: Using backend LokyBackend with 4 concurrent workers.\n",
      "[Parallel(n_jobs=-1)]: Done   1 tasks      | elapsed:  2.2min\n",
      "[Parallel(n_jobs=-1)]: Done   2 tasks      | elapsed:  2.2min\n",
      "[Parallel(n_jobs=-1)]: Done   3 tasks      | elapsed:  2.2min\n",
      "[Parallel(n_jobs=-1)]: Done   4 out of  10 | elapsed:  2.3min remaining:  3.4min\n",
      "[Parallel(n_jobs=-1)]: Done   5 out of  10 | elapsed:  4.3min remaining:  4.3min\n",
      "[Parallel(n_jobs=-1)]: Done   6 out of  10 | elapsed:  4.3min remaining:  2.9min\n",
      "[Parallel(n_jobs=-1)]: Done   7 out of  10 | elapsed:  4.3min remaining:  1.9min\n",
      "[Parallel(n_jobs=-1)]: Done   8 out of  10 | elapsed:  4.3min remaining:  1.1min\n",
      "[Parallel(n_jobs=-1)]: Done  10 out of  10 | elapsed:  5.8min remaining:    0.0s\n",
      "[Parallel(n_jobs=-1)]: Done  10 out of  10 | elapsed:  5.8min finished\n"
     ]
    },
    {
     "name": "stdout",
     "output_type": "stream",
     "text": [
      "Best params for fbeta_score\n",
      "{'class_weight': {1: 0.122, 0: 0.877}, 'n_estimators': 500}\n",
      "\n",
      "Confusion matrix of Random Forest optimized for fbeta_score on the test data:\n",
      "     pred_neg  pred_pos\n",
      "neg     16152       105\n",
      "pos      1827       445\n",
      "*********************************************************************************\n",
      "*********************************************************************************\n",
      "__________________________________ 20 ________________________________________\n",
      "Fitting 10 folds for each of 1 candidates, totalling 10 fits\n"
     ]
    },
    {
     "name": "stderr",
     "output_type": "stream",
     "text": [
      "[Parallel(n_jobs=-1)]: Using backend LokyBackend with 4 concurrent workers.\n",
      "[Parallel(n_jobs=-1)]: Done   1 tasks      | elapsed:  2.2min\n",
      "[Parallel(n_jobs=-1)]: Done   2 tasks      | elapsed:  2.2min\n",
      "[Parallel(n_jobs=-1)]: Done   3 tasks      | elapsed:  2.3min\n",
      "[Parallel(n_jobs=-1)]: Done   4 out of  10 | elapsed:  2.3min remaining:  3.4min\n",
      "[Parallel(n_jobs=-1)]: Done   5 out of  10 | elapsed:  4.3min remaining:  4.3min\n",
      "[Parallel(n_jobs=-1)]: Done   6 out of  10 | elapsed:  4.3min remaining:  2.8min\n",
      "[Parallel(n_jobs=-1)]: Done   7 out of  10 | elapsed:  4.3min remaining:  1.8min\n",
      "[Parallel(n_jobs=-1)]: Done   8 out of  10 | elapsed:  4.3min remaining:  1.1min\n",
      "[Parallel(n_jobs=-1)]: Done  10 out of  10 | elapsed:  5.4min remaining:    0.0s\n",
      "[Parallel(n_jobs=-1)]: Done  10 out of  10 | elapsed:  5.4min finished\n"
     ]
    },
    {
     "name": "stdout",
     "output_type": "stream",
     "text": [
      "Best params for fbeta_score\n",
      "{'class_weight': {1: 0.122, 0: 0.877}, 'n_estimators': 500}\n",
      "\n",
      "Confusion matrix of Random Forest optimized for fbeta_score on the test data:\n",
      "     pred_neg  pred_pos\n",
      "neg     16169        88\n",
      "pos      1830       442\n",
      "*********************************************************************************\n",
      "*********************************************************************************\n",
      "__________________________________ 90 ________________________________________\n",
      "Fitting 10 folds for each of 1 candidates, totalling 10 fits\n"
     ]
    },
    {
     "name": "stderr",
     "output_type": "stream",
     "text": [
      "[Parallel(n_jobs=-1)]: Using backend LokyBackend with 4 concurrent workers.\n",
      "[Parallel(n_jobs=-1)]: Done   1 tasks      | elapsed:  1.8min\n",
      "[Parallel(n_jobs=-1)]: Done   2 tasks      | elapsed:  1.8min\n",
      "[Parallel(n_jobs=-1)]: Done   3 tasks      | elapsed:  1.8min\n",
      "[Parallel(n_jobs=-1)]: Done   4 out of  10 | elapsed:  1.8min remaining:  2.7min\n",
      "[Parallel(n_jobs=-1)]: Done   5 out of  10 | elapsed:  3.6min remaining:  3.6min\n",
      "[Parallel(n_jobs=-1)]: Done   6 out of  10 | elapsed:  3.6min remaining:  2.4min\n",
      "[Parallel(n_jobs=-1)]: Done   7 out of  10 | elapsed:  3.6min remaining:  1.6min\n",
      "[Parallel(n_jobs=-1)]: Done   8 out of  10 | elapsed:  3.7min remaining:   54.7s\n",
      "[Parallel(n_jobs=-1)]: Done  10 out of  10 | elapsed:  4.8min remaining:    0.0s\n",
      "[Parallel(n_jobs=-1)]: Done  10 out of  10 | elapsed:  4.8min finished\n"
     ]
    },
    {
     "name": "stdout",
     "output_type": "stream",
     "text": [
      "Best params for fbeta_score\n",
      "{'class_weight': {1: 0.122, 0: 0.877}, 'n_estimators': 500}\n",
      "\n",
      "Confusion matrix of Random Forest optimized for fbeta_score on the test data:\n",
      "     pred_neg  pred_pos\n",
      "neg     16165        92\n",
      "pos      1843       429\n",
      "*********************************************************************************\n"
     ]
    }
   ],
   "source": [
    "\n",
    "#deciding Beta value for model :\n",
    "\n",
    "clf = RandomForestClassifier()\n",
    "param_grid = {\n",
    "    \"class_weight\":[{1:0.122,0:0.877}],\n",
    "    \"n_estimators\":[500],\n",
    "    #'min_samples_split': [3, 5, 10], \n",
    "    #'max_depth': [10, 20, 30],\n",
    "    #'max_features': [3, 5, 10, 20]\n",
    "}\n",
    "\n",
    "for beta_val in {0.5,0.7,1,1.5,2,5,10,20,40,70,90}:\n",
    "  scorers = {\n",
    "      'precision_score': make_scorer(precision_score),\n",
    "      'recall_score': make_scorer(recall_score),\n",
    "      'accuracy_score': make_scorer(accuracy_score),\n",
    "      'fbeta_score': make_scorer(fbeta_score, beta=beta_val)\n",
    "  }\n",
    "  print('*********************************************************************************')\n",
    "  print('__________________________________',beta_val,'________________________________________')\n",
    "  grid_search_clf = grid_search_wrapper(refit_score='fbeta_score')\n",
    "  print('*********************************************************************************') \n"
   ]
  },
  {
   "cell_type": "code",
   "execution_count": null,
   "metadata": {
    "colab": {
     "base_uri": "https://localhost:8080/"
    },
    "executionInfo": {
     "elapsed": 2706193,
     "status": "ok",
     "timestamp": 1605710875910,
     "user": {
      "displayName": "Mansi Gupta",
      "photoUrl": "https://lh3.googleusercontent.com/a-/AOh14Gg-eSqQt6zvClgSY0_QT_GIvO_LGNz3Cau1wv1S7w=s64",
      "userId": "09741357658171476289"
     },
     "user_tz": -330
    },
    "id": "g-Qo5k-SqRd3",
    "outputId": "ad9e639c-d1a5-4002-ff28-f841d570a18f"
   },
   "outputs": [],
   "source": [
    "for beta_val in {200,500,1000,1500,2000}:\n",
    "  scorers = {\n",
    "      'precision_score': make_scorer(precision_score),\n",
    "      'recall_score': make_scorer(recall_score),\n",
    "      'accuracy_score': make_scorer(accuracy_score),\n",
    "      'fbeta_score': make_scorer(fbeta_score, beta=beta_val)\n",
    "  }\n",
    "  print('*********************************************************************************')\n",
    "  print('__________________________________',beta_val,'________________________________________')\n",
    "  grid_search_clf = grid_search_wrapper(refit_score='fbeta_score')\n",
    "  print('*********************************************************************************')"
   ]
  },
  {
   "cell_type": "code",
   "execution_count": null,
   "metadata": {
    "colab": {
     "base_uri": "https://localhost:8080/"
    },
    "executionInfo": {
     "elapsed": 1771485,
     "status": "ok",
     "timestamp": 1605714927583,
     "user": {
      "displayName": "Mansi Gupta",
      "photoUrl": "https://lh3.googleusercontent.com/a-/AOh14Gg-eSqQt6zvClgSY0_QT_GIvO_LGNz3Cau1wv1S7w=s64",
      "userId": "09741357658171476289"
     },
     "user_tz": -330
    },
    "id": "nGA3Aptg8ZEj",
    "outputId": "f80068a6-90d7-40d0-b4bf-eab35bb6f4da"
   },
   "outputs": [],
   "source": [
    "from xgboost import XGBClassifier\n",
    "clf = XGBClassifier()\n",
    "\n",
    "param_grid = {\n",
    "        'learning_rate': [0.9],\n",
    "        'class_weight': [{1: 0.122, 0: 0.877}], 'n_estimators': [500],\n",
    "        #'max_depth': [3, 5, 7, 10,15]\n",
    "        #'min_child_weight': [1, 3, 5],\n",
    "        #'subsample': [0.5, 0.7],\n",
    "        #'colsample_bytree': [0.5, 0.7]\n",
    "}\n",
    "\n",
    "for beta_val in {0,1,100,200,500,1000}:\n",
    "  scorers = {\n",
    "      'precision_score': make_scorer(precision_score),\n",
    "      'recall_score': make_scorer(recall_score),\n",
    "      'accuracy_score': make_scorer(accuracy_score),\n",
    "      'fbeta_score': make_scorer(fbeta_score, beta=beta_val)\n",
    "  }\n",
    "  print('*********************************************************************************')\n",
    "  print('__________________________________',beta_val,'________________________________________')\n",
    "  grid_search_clf = grid_search_wrapper(refit_score='fbeta_score')\n",
    "  print('*********************************************************************************')"
   ]
  },
  {
   "cell_type": "code",
   "execution_count": null,
   "metadata": {
    "executionInfo": {
     "elapsed": 1181,
     "status": "ok",
     "timestamp": 1605785343775,
     "user": {
      "displayName": "Mansi Gupta",
      "photoUrl": "https://lh3.googleusercontent.com/a-/AOh14Gg-eSqQt6zvClgSY0_QT_GIvO_LGNz3Cau1wv1S7w=s64",
      "userId": "09741357658171476289"
     },
     "user_tz": -330
    },
    "id": "XNTy31JXIsWv"
   },
   "outputs": [],
   "source": [
    "scorers = {\n",
    "     'precision_score': make_scorer(precision_score),\n",
    "     'recall_score': make_scorer(recall_score),\n",
    "     'accuracy_score': make_scorer(accuracy_score),\n",
    "     'fbeta_score': make_scorer(fbeta_score, beta=200),\n",
    "     'roc_auc_score':make_scorer(roc_auc_score)\n",
    "}\n",
    "from sklearn.model_selection import RandomizedSearchCV\n",
    "from sklearn.tree import DecisionTreeClassifier\n",
    "from sklearn.ensemble import RandomForestClassifier\n",
    "\n"
   ]
  },
  {
   "cell_type": "code",
   "execution_count": null,
   "metadata": {
    "colab": {
     "base_uri": "https://localhost:8080/"
    },
    "executionInfo": {
     "elapsed": 556557,
     "status": "ok",
     "timestamp": 1605694532969,
     "user": {
      "displayName": "Mansi Gupta",
      "photoUrl": "https://lh3.googleusercontent.com/a-/AOh14Gg-eSqQt6zvClgSY0_QT_GIvO_LGNz3Cau1wv1S7w=s64",
      "userId": "09741357658171476289"
     },
     "user_tz": -330
    },
    "id": "8e_zLiZ7SJec",
    "outputId": "a30eeca4-18e9-4ba5-c6aa-b2fe306217c5"
   },
   "outputs": [],
   "source": [
    "clf = RandomForestClassifier()\n",
    "param_grid = {\n",
    "    \"class_weight\":[{1:0.122,0:0.877}],\n",
    "    \"n_estimators\":[500],\n",
    "    #'min_samples_split': [3, 5, 10], \n",
    "    #'max_depth': [3, 5, 15, 25],\n",
    "    #'max_features': [3, 5, 10, 20]\n",
    "}\n",
    "grid_search_clf = grid_search_wrapper(refit_score='precision_score')\n"
   ]
  },
  {
   "cell_type": "code",
   "execution_count": null,
   "metadata": {
    "colab": {
     "base_uri": "https://localhost:8080/"
    },
    "executionInfo": {
     "elapsed": 534979,
     "status": "ok",
     "timestamp": 1605212212690,
     "user": {
      "displayName": "Mansi Gupta",
      "photoUrl": "https://lh3.googleusercontent.com/a-/AOh14Gg-eSqQt6zvClgSY0_QT_GIvO_LGNz3Cau1wv1S7w=s64",
      "userId": "09741357658171476289"
     },
     "user_tz": -330
    },
    "id": "XpOUHlstjwLk",
    "outputId": "791d7d1b-4e84-44f6-e21b-6cb61812570e"
   },
   "outputs": [],
   "source": [
    "clf = RandomForestClassifier()\n",
    "param_grid = {\n",
    "    \"class_weight\":[{1:0.122,0:0.877}],\n",
    "    \"n_estimators\":[500],\n",
    "    #'min_samples_split': [3, 5, 10], \n",
    "    #'max_depth': [3, 5, 15, 25],\n",
    "    #'max_features': [3, 5, 10, 20]\n",
    "}\n",
    "grid_search_clf = grid_search_wrapper(refit_score='recall_score')"
   ]
  },
  {
   "cell_type": "code",
   "execution_count": null,
   "metadata": {
    "colab": {
     "base_uri": "https://localhost:8080/"
    },
    "executionInfo": {
     "elapsed": 1137778,
     "status": "ok",
     "timestamp": 1605696690879,
     "user": {
      "displayName": "Mansi Gupta",
      "photoUrl": "https://lh3.googleusercontent.com/a-/AOh14Gg-eSqQt6zvClgSY0_QT_GIvO_LGNz3Cau1wv1S7w=s64",
      "userId": "09741357658171476289"
     },
     "user_tz": -330
    },
    "id": "w5O3F2R40i5F",
    "outputId": "7cfb9ec9-29e3-47cf-d098-82cce68ae4eb"
   },
   "outputs": [],
   "source": [
    "clf = RandomForestClassifier()\n",
    "param_grid = {\n",
    "    \"class_weight\":[{1:0.122,0:0.877}],\n",
    "    \"n_estimators\":[500],\n",
    "    #'min_samples_split': [3, 5, 10], \n",
    "    'max_depth': [3, 5, 15, 25],\n",
    "    #'max_features': [3, 5, 10, 20]\n",
    "}\n",
    "grid_search_clf = grid_search_wrapper(refit_score='fbeta_score')"
   ]
  },
  {
   "cell_type": "code",
   "execution_count": null,
   "metadata": {
    "colab": {
     "base_uri": "https://localhost:8080/"
    },
    "executionInfo": {
     "elapsed": 3586,
     "status": "ok",
     "timestamp": 1605785362102,
     "user": {
      "displayName": "Mansi Gupta",
      "photoUrl": "https://lh3.googleusercontent.com/a-/AOh14Gg-eSqQt6zvClgSY0_QT_GIvO_LGNz3Cau1wv1S7w=s64",
      "userId": "09741357658171476289"
     },
     "user_tz": -330
    },
    "id": "jyggNhpqMfbX",
    "outputId": "df349079-258b-478e-f491-0f694b6da7c7"
   },
   "outputs": [],
   "source": [
    "!pip install rfpimp\n",
    "from rfpimp import *\n"
   ]
  },
  {
   "cell_type": "code",
   "execution_count": null,
   "metadata": {
    "executionInfo": {
     "elapsed": 855,
     "status": "ok",
     "timestamp": 1605785529984,
     "user": {
      "displayName": "Mansi Gupta",
      "photoUrl": "https://lh3.googleusercontent.com/a-/AOh14Gg-eSqQt6zvClgSY0_QT_GIvO_LGNz3Cau1wv1S7w=s64",
      "userId": "09741357658171476289"
     },
     "user_tz": -330
    },
    "id": "kdauR-ReqaQm"
   },
   "outputs": [],
   "source": [
    "\n",
    "# adding a column in X with random values to help find out correct feature importance and features to be removed.\n",
    "xtrain['random']=np.random.choice(range(xtrain.shape[0]), xtrain.shape[0])\n",
    "xtest['random']=np.random.choice(range(xtrain.shape[0]), xtest.shape[0])"
   ]
  },
  {
   "cell_type": "code",
   "execution_count": null,
   "metadata": {
    "executionInfo": {
     "elapsed": 873,
     "status": "ok",
     "timestamp": 1605785534332,
     "user": {
      "displayName": "Mansi Gupta",
      "photoUrl": "https://lh3.googleusercontent.com/a-/AOh14Gg-eSqQt6zvClgSY0_QT_GIvO_LGNz3Cau1wv1S7w=s64",
      "userId": "09741357658171476289"
     },
     "user_tz": -330
    },
    "id": "yip1MQbiRPTb"
   },
   "outputs": [],
   "source": [
    "from xgboost import XGBClassifier\n",
    "clf = XGBClassifier()\n",
    "rf=XGBClassifier(base_score=0.5, booster='gbtree',\n",
    "              class_weight={0: 0.877, 1: 0.122}, colsample_bylevel=1,\n",
    "              colsample_bynode=1, colsample_bytree=1, gamma=0,\n",
    "              learning_rate=0.9, max_delta_step=0, max_depth=3,\n",
    "              min_child_weight=1, missing=None, n_estimators=500, n_jobs=1,\n",
    "              nthread=None, objective='binary:logistic', random_state=0,\n",
    "              reg_alpha=0, reg_lambda=1, scale_pos_weight=1, seed=None,\n",
    "              silent=None, subsample=1, verbosity=1)"
   ]
  },
  {
   "cell_type": "code",
   "execution_count": null,
   "metadata": {
    "colab": {
     "base_uri": "https://localhost:8080/"
    },
    "executionInfo": {
     "elapsed": 848,
     "status": "ok",
     "timestamp": 1605785538903,
     "user": {
      "displayName": "Mansi Gupta",
      "photoUrl": "https://lh3.googleusercontent.com/a-/AOh14Gg-eSqQt6zvClgSY0_QT_GIvO_LGNz3Cau1wv1S7w=s64",
      "userId": "09741357658171476289"
     },
     "user_tz": -330
    },
    "id": "hyylyR-Euo42",
    "outputId": "6b5aaa38-f578-422a-f50c-ca212b647b8f"
   },
   "outputs": [],
   "source": [
    "xtest.shape"
   ]
  },
  {
   "cell_type": "code",
   "execution_count": null,
   "metadata": {
    "colab": {
     "base_uri": "https://localhost:8080/"
    },
    "executionInfo": {
     "elapsed": 38402,
     "status": "ok",
     "timestamp": 1605785577732,
     "user": {
      "displayName": "Mansi Gupta",
      "photoUrl": "https://lh3.googleusercontent.com/a-/AOh14Gg-eSqQt6zvClgSY0_QT_GIvO_LGNz3Cau1wv1S7w=s64",
      "userId": "09741357658171476289"
     },
     "user_tz": -330
    },
    "id": "67OOYvjFmjEU",
    "outputId": "8a05397b-16ac-4803-e45c-1f4bab7dceb7"
   },
   "outputs": [],
   "source": [
    "rf.fit(xtrain, ytrain)"
   ]
  },
  {
   "cell_type": "code",
   "execution_count": null,
   "metadata": {
    "executionInfo": {
     "elapsed": 85459,
     "status": "ok",
     "timestamp": 1605785625185,
     "user": {
      "displayName": "Mansi Gupta",
      "photoUrl": "https://lh3.googleusercontent.com/a-/AOh14Gg-eSqQt6zvClgSY0_QT_GIvO_LGNz3Cau1wv1S7w=s64",
      "userId": "09741357658171476289"
     },
     "user_tz": -330
    },
    "id": "ZSMLkvT7zRfd"
   },
   "outputs": [],
   "source": [
    "list(zip(df.columns,rf.feature_importances_))\n",
    "imp = importances(rf, xtrain, ytrain, n_samples=-1) # this function comes from package rfpimp\n",
    "viz = plot_importances(imp)\n",
    "viz.view()"
   ]
  },
  {
   "cell_type": "code",
   "execution_count": null,
   "metadata": {
    "colab": {
     "base_uri": "https://localhost:8080/",
     "height": 1000
    },
    "executionInfo": {
     "elapsed": 80949,
     "status": "ok",
     "timestamp": 1605785625189,
     "user": {
      "displayName": "Mansi Gupta",
      "photoUrl": "https://lh3.googleusercontent.com/a-/AOh14Gg-eSqQt6zvClgSY0_QT_GIvO_LGNz3Cau1wv1S7w=s64",
      "userId": "09741357658171476289"
     },
     "user_tz": -330
    },
    "id": "KMufoOmatljg",
    "outputId": "08601bc5-14cc-4137-b103-96184e44346c"
   },
   "outputs": [],
   "source": [
    "imp"
   ]
  },
  {
   "cell_type": "code",
   "execution_count": null,
   "metadata": {
    "colab": {
     "base_uri": "https://localhost:8080/",
     "height": 443
    },
    "executionInfo": {
     "elapsed": 68399,
     "status": "ok",
     "timestamp": 1605785625193,
     "user": {
      "displayName": "Mansi Gupta",
      "photoUrl": "https://lh3.googleusercontent.com/a-/AOh14Gg-eSqQt6zvClgSY0_QT_GIvO_LGNz3Cau1wv1S7w=s64",
      "userId": "09741357658171476289"
     },
     "user_tz": -330
    },
    "id": "48j5EuDTuHwJ",
    "outputId": "f84bb7d8-d5ba-47db-e003-a9d1eb234a69"
   },
   "outputs": [],
   "source": [
    "indx= imp[imp.values > 0.018943].index.values\n",
    "xtrain[indx]"
   ]
  },
  {
   "cell_type": "code",
   "execution_count": null,
   "metadata": {
    "colab": {
     "base_uri": "https://localhost:8080/"
    },
    "executionInfo": {
     "elapsed": 1334568,
     "status": "ok",
     "timestamp": 1605127919857,
     "user": {
      "displayName": "Mansi Gupta",
      "photoUrl": "https://lh3.googleusercontent.com/a-/AOh14Gg-eSqQt6zvClgSY0_QT_GIvO_LGNz3Cau1wv1S7w=s64",
      "userId": "09741357658171476289"
     },
     "user_tz": -330
    },
    "id": "2KY209RMo9au",
    "outputId": "9a4525a3-f942-4e30-838c-f5097476bac3"
   },
   "outputs": [],
   "source": [
    "from xgboost import XGBClassifier\n",
    "clf = XGBClassifier()\n",
    "\n",
    "param_grid = {\n",
    "        'learning_rate': [0.01, 0.05,0.1,0.25, 0.5, 0.7],\n",
    "        'class_weight': [{1: 0.122, 0: 0.877}], 'n_estimators': [500]\n",
    "        #'max_depth': [3, 5, 7, 10],\n",
    "        #'min_child_weight': [1, 3, 5],\n",
    "        #'subsample': [0.5, 0.7],\n",
    "        #'colsample_bytree': [0.5, 0.7]\n",
    "}\n",
    "\n",
    "grid_search_clf = grid_search_wrapper(refit_score='recall_score')\n",
    "\n",
    "gsf= grid_search_clf.best_estimator_\n",
    "gsf.fit(xtrain[indx],ytrain)"
   ]
  },
  {
   "cell_type": "code",
   "execution_count": null,
   "metadata": {
    "colab": {
     "base_uri": "https://localhost:8080/"
    },
    "executionInfo": {
     "elapsed": 8532453,
     "status": "ok",
     "timestamp": 1605136619634,
     "user": {
      "displayName": "Mansi Gupta",
      "photoUrl": "https://lh3.googleusercontent.com/a-/AOh14Gg-eSqQt6zvClgSY0_QT_GIvO_LGNz3Cau1wv1S7w=s64",
      "userId": "09741357658171476289"
     },
     "user_tz": -330
    },
    "id": "Ws0xsVzI1U_k",
    "outputId": "742f917b-ad25-4f88-9376-d30a7358d1b6"
   },
   "outputs": [],
   "source": [
    "from xgboost import XGBClassifier\n",
    "clf = XGBClassifier()\n",
    "\n",
    "param_grid = {\n",
    "        'learning_rate': [ 0.7,0.9,0.8],\n",
    "        'class_weight': [{1: 0.122, 0: 0.877}], 'n_estimators': [500],\n",
    "        'max_depth': [3, 5, 7, 10,15]\n",
    "        #'min_child_weight': [1, 3, 5],\n",
    "        #'subsample': [0.5, 0.7],\n",
    "        #'colsample_bytree': [0.5, 0.7]\n",
    "}\n",
    "\n",
    "grid_search_clf = grid_search_wrapper(refit_score='recall_score')\n",
    "\n",
    "gsf= grid_search_clf.best_estimator_\n",
    "gsf.fit(xtrain[indx],ytrain)\n"
   ]
  },
  {
   "cell_type": "code",
   "execution_count": null,
   "metadata": {
    "colab": {
     "base_uri": "https://localhost:8080/"
    },
    "executionInfo": {
     "elapsed": 4624389,
     "status": "ok",
     "timestamp": 1605216837249,
     "user": {
      "displayName": "Mansi Gupta",
      "photoUrl": "https://lh3.googleusercontent.com/a-/AOh14Gg-eSqQt6zvClgSY0_QT_GIvO_LGNz3Cau1wv1S7w=s64",
      "userId": "09741357658171476289"
     },
     "user_tz": -330
    },
    "id": "UcosObcqCVLL",
    "outputId": "aa68ea90-fa18-42a2-b5b2-b1c7bde401e3"
   },
   "outputs": [],
   "source": [
    "from xgboost import XGBClassifier\n",
    "clf = XGBClassifier()\n",
    "\n",
    "param_grid = {\n",
    "        'learning_rate': [ 0.9],\n",
    "        'class_weight': [{1: 0.122, 0: 0.877}], 'n_estimators': [500],\n",
    "        'max_depth': [5],\n",
    "        'min_child_weight': [1, 3, 5,10,15,50,100,75,125]\n",
    "        #'subsample': [0.5, 0.7],\n",
    "        #'colsample_bytree': [0.5, 0.7]\n",
    "}\n",
    "\n",
    "grid_search_clf = grid_search_wrapper(refit_score='recall_score')\n",
    "\n",
    "gsf= grid_search_clf.best_estimator_\n",
    "gsf.fit(xtrain[indx],ytrain)"
   ]
  },
  {
   "cell_type": "code",
   "execution_count": null,
   "metadata": {
    "colab": {
     "base_uri": "https://localhost:8080/"
    },
    "executionInfo": {
     "elapsed": 2874303,
     "status": "ok",
     "timestamp": 1605220035098,
     "user": {
      "displayName": "Mansi Gupta",
      "photoUrl": "https://lh3.googleusercontent.com/a-/AOh14Gg-eSqQt6zvClgSY0_QT_GIvO_LGNz3Cau1wv1S7w=s64",
      "userId": "09741357658171476289"
     },
     "user_tz": -330
    },
    "id": "llg5FJjVhYeb",
    "outputId": "14766729-0900-4eae-b54f-ef84293c78df"
   },
   "outputs": [],
   "source": [
    "from xgboost import XGBClassifier\n",
    "clf = XGBClassifier()\n",
    "\n",
    "param_grid = {\n",
    "        'learning_rate': [ 0.9],\n",
    "        'class_weight': [{1: 0.122, 0: 0.877}], 'n_estimators': [500],\n",
    "        'max_depth': [5],\n",
    "        'min_child_weight': [10],\n",
    "        'subsample': [0.2,0.3,0.5,0.6, 0.7,0.9],\n",
    "        #'colsample_bytree': [0.5, 0.7]\n",
    "}\n",
    "\n",
    "grid_search_clf = grid_search_wrapper(refit_score='recall_score')\n",
    "\n",
    "gsf= grid_search_clf.best_estimator_\n",
    "gsf.fit(xtrain[indx],ytrain)"
   ]
  },
  {
   "cell_type": "code",
   "execution_count": null,
   "metadata": {
    "colab": {
     "base_uri": "https://localhost:8080/"
    },
    "executionInfo": {
     "elapsed": 2536575,
     "status": "ok",
     "timestamp": 1605222968151,
     "user": {
      "displayName": "Mansi Gupta",
      "photoUrl": "https://lh3.googleusercontent.com/a-/AOh14Gg-eSqQt6zvClgSY0_QT_GIvO_LGNz3Cau1wv1S7w=s64",
      "userId": "09741357658171476289"
     },
     "user_tz": -330
    },
    "id": "coxgSVuJj3td",
    "outputId": "8216e3b1-2fe8-49c6-c7df-7ac70ef22e4f"
   },
   "outputs": [],
   "source": [
    "from xgboost import XGBClassifier\n",
    "clf = XGBClassifier()\n",
    "\n",
    "param_grid = {\n",
    "        'learning_rate': [ 0.9],\n",
    "        'class_weight': [{1: 0.122, 0: 0.877}], 'n_estimators': [500],\n",
    "        'max_depth': [5],\n",
    "        'min_child_weight': [10],\n",
    "        'subsample': [0.3],\n",
    "        'scale_pos_weight': [0.2,0.3,0.5,0.6, 0.7,0.9]\n",
    "}\n",
    "\n",
    "grid_search_clf = grid_search_wrapper(refit_score='recall_score')\n",
    "\n",
    "gsf= grid_search_clf.best_estimator_\n",
    "gsf.fit(xtrain[indx],ytrain)"
   ]
  },
  {
   "cell_type": "code",
   "execution_count": null,
   "metadata": {
    "colab": {
     "base_uri": "https://localhost:8080/"
    },
    "executionInfo": {
     "elapsed": 2543185,
     "status": "ok",
     "timestamp": 1605720932857,
     "user": {
      "displayName": "Mansi Gupta",
      "photoUrl": "https://lh3.googleusercontent.com/a-/AOh14Gg-eSqQt6zvClgSY0_QT_GIvO_LGNz3Cau1wv1S7w=s64",
      "userId": "09741357658171476289"
     },
     "user_tz": -330
    },
    "id": "hv7ysLIZkpwR",
    "outputId": "d6f79117-774b-4f1e-fcf7-1e2ea69144ff"
   },
   "outputs": [],
   "source": [
    "from xgboost import XGBClassifier\n",
    "clf = XGBClassifier()\n",
    "\n",
    "param_grid = {\n",
    "        'learning_rate': [ 0.9],\n",
    "        'class_weight': [{1: 0.122, 0: 0.877}], 'n_estimators': [500],\n",
    "        'max_depth': [5],\n",
    "        'min_child_weight': [10],\n",
    "        'subsample': [0.3],\n",
    "        'scale_pos_weight': [0.2,0.3,0.5,0.6, 0.7,0.9]\n",
    "}\n",
    "\n",
    "grid_search_clf = grid_search_wrapper(refit_score='recall_score')\n",
    "\n",
    "gsf= grid_search_clf.best_estimator_\n",
    "gsf.fit(xtrain[indx],ytrain)"
   ]
  },
  {
   "cell_type": "code",
   "execution_count": null,
   "metadata": {
    "colab": {
     "base_uri": "https://localhost:8080/"
    },
    "executionInfo": {
     "elapsed": 2505328,
     "status": "ok",
     "timestamp": 1605723438223,
     "user": {
      "displayName": "Mansi Gupta",
      "photoUrl": "https://lh3.googleusercontent.com/a-/AOh14Gg-eSqQt6zvClgSY0_QT_GIvO_LGNz3Cau1wv1S7w=s64",
      "userId": "09741357658171476289"
     },
     "user_tz": -330
    },
    "id": "EJvAkPLtrj07",
    "outputId": "80563a8b-4371-4a6a-c69d-2ba38357cc21"
   },
   "outputs": [],
   "source": [
    "from xgboost import XGBClassifier\n",
    "clf = XGBClassifier()\n",
    "\n",
    "param_grid = {\n",
    "        'learning_rate': [ 0.9],\n",
    "        'class_weight': [{1: 0.122, 0: 0.877}], 'n_estimators': [500],\n",
    "        'max_depth': [5],\n",
    "        'min_child_weight': [10],\n",
    "        'subsample': [0.3],\n",
    "        'scale_pos_weight': [0.8,0.9,1,9]\n",
    "}\n",
    "\n",
    "grid_search_clf = grid_search_wrapper(refit_score='roc_auc_score')\n",
    "\n",
    "gsf= grid_search_clf.best_estimator_\n",
    "\n"
   ]
  },
  {
   "cell_type": "code",
   "execution_count": null,
   "metadata": {
    "executionInfo": {
     "elapsed": 873,
     "status": "ok",
     "timestamp": 1605792736442,
     "user": {
      "displayName": "Mansi Gupta",
      "photoUrl": "https://lh3.googleusercontent.com/a-/AOh14Gg-eSqQt6zvClgSY0_QT_GIvO_LGNz3Cau1wv1S7w=s64",
      "userId": "09741357658171476289"
     },
     "user_tz": -330
    },
    "id": "j5w1_DJPAhmL"
   },
   "outputs": [],
   "source": [
    "\n",
    "gsf=XGBClassifier(base_score=0.5, booster='gbtree',\n",
    "              class_weight={0: 0.877, 1: 0.122}, colsample_bylevel=1,\n",
    "              colsample_bynode=1, colsample_bytree=1, gamma=0,\n",
    "              learning_rate=0.9, max_delta_step=0, max_depth=5,\n",
    "              min_child_weight=10, missing=None, n_estimators=500, n_jobs=1,\n",
    "              nthread=None, objective='binary:logistic', random_state=0,\n",
    "              reg_alpha=0, reg_lambda=1, scale_pos_weight=0.9, seed=None,\n",
    "              silent=None, subsample=0.3, verbosity=1)"
   ]
  },
  {
   "cell_type": "code",
   "execution_count": null,
   "metadata": {
    "colab": {
     "base_uri": "https://localhost:8080/"
    },
    "executionInfo": {
     "elapsed": 2327,
     "status": "ok",
     "timestamp": 1605724341503,
     "user": {
      "displayName": "Mansi Gupta",
      "photoUrl": "https://lh3.googleusercontent.com/a-/AOh14Gg-eSqQt6zvClgSY0_QT_GIvO_LGNz3Cau1wv1S7w=s64",
      "userId": "09741357658171476289"
     },
     "user_tz": -330
    },
    "id": "wNEMuM_joOHW",
    "outputId": "11c79f78-7e12-4b91-d859-4b32167c154a"
   },
   "outputs": [],
   "source": [
    "gsf.fit(xtrain[indx],ytrain)\n",
    "preds = gsf.predict(xtest[indx])\n",
    "roc_auc_score(ytest, preds)"
   ]
  },
  {
   "cell_type": "code",
   "execution_count": null,
   "metadata": {
    "colab": {
     "base_uri": "https://localhost:8080/"
    },
    "executionInfo": {
     "elapsed": 245146,
     "status": "ok",
     "timestamp": 1605793788954,
     "user": {
      "displayName": "Mansi Gupta",
      "photoUrl": "https://lh3.googleusercontent.com/a-/AOh14Gg-eSqQt6zvClgSY0_QT_GIvO_LGNz3Cau1wv1S7w=s64",
      "userId": "09741357658171476289"
     },
     "user_tz": -330
    },
    "id": "lOEniusYuToh",
    "outputId": "e6b29b58-59c5-46b3-b147-188cd9096fc1"
   },
   "outputs": [],
   "source": [
    "from xgboost import XGBClassifier\n",
    "xgb_model= XGBClassifier()\n",
    "param_tuning = {\n",
    "        'learning_rate': [0.25],\n",
    "        \"class_weight\":[{0:0.877,1:0.123}],\n",
    "        'max_depth': [3],\n",
    "        'min_child_weight': [5],\n",
    "        'subsample': [0.7],\n",
    "        'colsample_bytree': [0.05,0.1,0.2,0.5, 0.7,0.9],\n",
    "        'n_estimators' : [500] \n",
    "}\n",
    "\n",
    "xgbsearch3 = GridSearchCV(estimator = xgb_model,\n",
    "                           param_grid = param_tuning,                        \n",
    "                           cv = 5,scoring ='roc_auc',\n",
    "                           n_jobs = 20,\n",
    "                           verbose = 30)\n",
    "\n",
    "xgbsearch3.fit(xtrain[indx],ytrain)\n",
    "print(xgbsearch3.best_params_)\n",
    "report(xgbsearch3.cv_results_,5)"
   ]
  },
  {
   "cell_type": "code",
   "execution_count": null,
   "metadata": {
    "colab": {
     "base_uri": "https://localhost:8080/"
    },
    "executionInfo": {
     "elapsed": 13030,
     "status": "ok",
     "timestamp": 1605797334880,
     "user": {
      "displayName": "Mansi Gupta",
      "photoUrl": "https://lh3.googleusercontent.com/a-/AOh14Gg-eSqQt6zvClgSY0_QT_GIvO_LGNz3Cau1wv1S7w=s64",
      "userId": "09741357658171476289"
     },
     "user_tz": -330
    },
    "id": "3jt68j_r1Hg6",
    "outputId": "b67aae6e-aa5e-4662-f2f5-dd8d9e73a00c"
   },
   "outputs": [],
   "source": [
    "xgbfinal = xgbsearch3.best_estimator_\n",
    "xgbfinal.fit(xtrain[indx],ytrain)\n",
    "preds=xgbfinal.predict(xtest[indx])\n",
    "print(confusion_matrix(ytest,preds))"
   ]
  },
  {
   "cell_type": "code",
   "execution_count": null,
   "metadata": {
    "id": "-PYdQD4K3yVl"
   },
   "outputs": [],
   "source": [
    "\n"
   ]
  }
 ],
 "metadata": {
  "colab": {
   "authorship_tag": "ABX9TyNXcmcr6z/af6vlpc1SM+F7",
   "collapsed_sections": [],
   "name": "junk property Classification Industry level.ipynb",
   "provenance": [
    {
     "file_id": "1WLR8rPLjxiTQNyuV4uXBfVx1Ni4LSXBp",
     "timestamp": 1605693223282
    },
    {
     "file_id": "1lPNcI9eIO_givFo1Rwd0-05JP1PY9odj",
     "timestamp": 1603705018259
    }
   ]
  },
  "kernelspec": {
   "display_name": "Python 3",
   "language": "python",
   "name": "python3"
  },
  "language_info": {
   "codemirror_mode": {
    "name": "ipython",
    "version": 3
   },
   "file_extension": ".py",
   "mimetype": "text/x-python",
   "name": "python",
   "nbconvert_exporter": "python",
   "pygments_lexer": "ipython3",
   "version": "3.8.5"
  }
 },
 "nbformat": 4,
 "nbformat_minor": 1
}
